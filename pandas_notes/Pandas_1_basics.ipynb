{
  "nbformat": 4,
  "nbformat_minor": 0,
  "metadata": {
    "colab": {
      "provenance": []
    },
    "kernelspec": {
      "name": "python3",
      "display_name": "Python 3"
    },
    "language_info": {
      "name": "python"
    }
  },
  "cells": [
    {
      "cell_type": "code",
      "execution_count": null,
      "metadata": {
        "id": "lFECd1C3uyz7"
      },
      "outputs": [],
      "source": [
        "import numpy as np\n",
        "import pandas as pd"
      ]
    },
    {
      "cell_type": "markdown",
      "source": [
        "#dataframe with list"
      ],
      "metadata": {
        "id": "uzp_sNW7u_yW"
      }
    },
    {
      "cell_type": "code",
      "source": [
        "student_data = [\n",
        "    [100,80,10],\n",
        "    [90,70,7],\n",
        "    [120,100,14],\n",
        "    [80,50,2]\n",
        "]\n",
        "\n",
        "pd.DataFrame(student_data,columns=['iq','marks','package'])"
      ],
      "metadata": {
        "id": "dSQHTtUDu68K"
      },
      "execution_count": null,
      "outputs": []
    },
    {
      "cell_type": "markdown",
      "source": [
        "#dataframe with dictionary"
      ],
      "metadata": {
        "id": "DkjtQ9pvvGHk"
      }
    },
    {
      "cell_type": "code",
      "source": [
        "student_dict = {\n",
        "    'name':['nitish','ankit','rupesh','rishabh','amit','ankita'],\n",
        "    'iq':[100,90,120,80,0,0],\n",
        "    'marks':[80,70,100,50,0,0],\n",
        "    'package':[10,7,14,2,0,0]\n",
        "}\n",
        "\n",
        "students = pd.DataFrame(student_dict)\n",
        "students.set_index('name',inplace=True) #name column became the index column (custom indexing)"
      ],
      "metadata": {
        "id": "qOK5nQhivFBT"
      },
      "execution_count": null,
      "outputs": []
    },
    {
      "cell_type": "markdown",
      "source": [
        "#dataframe using CSV"
      ],
      "metadata": {
        "id": "9fhoVTpovYbk"
      }
    },
    {
      "cell_type": "code",
      "source": [
        "movies = pd.read_csv('movies.csv')"
      ],
      "metadata": {
        "id": "Nt8chUB9vSbA"
      },
      "execution_count": null,
      "outputs": []
    },
    {
      "cell_type": "markdown",
      "source": [
        "#dataframe attributes"
      ],
      "metadata": {
        "id": "zPHh7xBqvpMU"
      }
    },
    {
      "cell_type": "code",
      "source": [
        "movies.shape    #(rows, columns)\n",
        "movies.dtypes   #dtype of each column (series)\n",
        "movies.index    #gives us index column\n",
        "movies.columns  #gives us column names\n",
        "movies.values   #gives us all values of each column, except for column names"
      ],
      "metadata": {
        "id": "Ek7heo8Bvck4"
      },
      "execution_count": null,
      "outputs": []
    },
    {
      "cell_type": "markdown",
      "source": [
        "#dataframe methods"
      ],
      "metadata": {
        "id": "9EKE5dxNwo7K"
      }
    },
    {
      "cell_type": "code",
      "source": [
        "movies.head(2)\n",
        "movies.tail(2)\n",
        "movies.sample(2)\n",
        "movies.info()\n",
        "movies.describe()\n"
      ],
      "metadata": {
        "id": "gaMdBOi8wj0p"
      },
      "execution_count": null,
      "outputs": []
    },
    {
      "cell_type": "code",
      "source": [
        "movies.isnull()  #returns true wherever null found\n",
        "movies.isnull().sum() #counts true values, as in, null values.\n",
        "\n",
        "movies.duplicated() #returns true wherever duplicate found\n",
        "movies.duplicated().sum()"
      ],
      "metadata": {
        "id": "23r8wCDgwwvp"
      },
      "execution_count": null,
      "outputs": []
    },
    {
      "cell_type": "code",
      "source": [
        "students.rename(columns={'marks':'percent','package':'lpa'},inplace=True) #just to rename the column names ----> old_val : new_val"
      ],
      "metadata": {
        "id": "G3YzoZptxU4b"
      },
      "execution_count": null,
      "outputs": []
    },
    {
      "cell_type": "markdown",
      "source": [
        "#dataframe math methods"
      ],
      "metadata": {
        "id": "7XwLNLnqxn9v"
      }
    },
    {
      "cell_type": "code",
      "source": [
        "students.sum(axis=0)  #note:- when axis = 0, we are talking about columns. it will give sum of all values of each column. for eg: iq  1200, lpa  1230 and so on\n",
        "students.mean(axis=1) #axis = 1, hence rowwise mean of all values of a row.\n",
        "#NOTE:- axis = 0 is by default so even if not specified, the sum will happen for each column unless axis = 1 specified.\n",
        "#below, in every method, axis = 0 considered.\n",
        "students.var()\n",
        "students.std()\n",
        "students.min()\n",
        "students.max()\n",
        "students.median()"
      ],
      "metadata": {
        "id": "VdQhio04xhgi"
      },
      "execution_count": null,
      "outputs": []
    },
    {
      "cell_type": "markdown",
      "source": [
        "#selecting columns from dataframe"
      ],
      "metadata": {
        "id": "Y-bwnURKzemm"
      }
    },
    {
      "cell_type": "code",
      "source": [
        "# single cols\n",
        "movies['title_x']\n",
        "\n",
        "# multiple cols\n",
        "movies[['year_of_release','actors','title_x']]"
      ],
      "metadata": {
        "id": "tMBlH66myhSm"
      },
      "execution_count": null,
      "outputs": []
    },
    {
      "cell_type": "markdown",
      "source": [
        "#selecting rows from dataframe\n",
        "\n",
        "*   iloc\n",
        "*   loc\n",
        "\n"
      ],
      "metadata": {
        "id": "31D0sL5mz1oh"
      }
    },
    {
      "cell_type": "code",
      "source": [
        "'''\n",
        "iloc:-\n",
        "when you want to access the rows using the indexing.\n",
        "for eg:-\n",
        "index   Name     Age\n",
        "dev     Alice    25\n",
        "bholu   Bob      30\n",
        "rahul   Charlie  35\n",
        "\n",
        "students.iloc[2]  means that i am accessing 3rd row.\n",
        "\n",
        "loc:-\n",
        "when you want to access rows using index labels.\n",
        "for eg:-\n",
        "index   Name     Age\n",
        "dev     Alice    25\n",
        "bholu   Bob      30\n",
        "rahul   Charlie  35\n",
        "\n",
        "students.loc[dev] gives us rows where index value was dev.\n",
        "\n",
        "index  Name     Age\n",
        "2      Alice    25\n",
        "0      Bob      30\n",
        "1      Charlie  35\n",
        "\n",
        "students2.iloc[0] gives first row\n",
        "students2.loc[0] gives us row where index value is 0, which is the second row.\n",
        "'''"
      ],
      "metadata": {
        "id": "FhZzV83Oz04l"
      },
      "execution_count": null,
      "outputs": []
    },
    {
      "cell_type": "code",
      "source": [
        "movies.iloc[:5]  #first 5 rows\n",
        "movies.iloc[[0,4,5]] #fancy indexing\n",
        "\n",
        "students.loc['nitish']\n",
        "students.loc['nitish':'rishabh':2]\n",
        "students.loc[['nitish','ankita','rupesh']]  #fancy indexing\n",
        "students.iloc[[0,3,4]] #so even if custom indexing done in students, where index col is names, we can still use iloc to access rows based on index positions and not index values."
      ],
      "metadata": {
        "id": "OWGR9OWgzyec"
      },
      "execution_count": null,
      "outputs": []
    },
    {
      "cell_type": "markdown",
      "source": [
        "#selecting both, rows and columns"
      ],
      "metadata": {
        "id": "yFzHBDAv4U-m"
      }
    },
    {
      "cell_type": "code",
      "source": [
        "movies.iloc[0:3,0:3]  #first 3 rows and first 3 columns\n",
        "\n",
        "movies.loc[0:2,'title_x':'poster_path']  #first 2 rows and columns name as given. that is why, we used loc and not iloc."
      ],
      "metadata": {
        "id": "VqROGBeO3LPj"
      },
      "execution_count": null,
      "outputs": []
    },
    {
      "cell_type": "markdown",
      "source": [
        "#filtering the dataframe"
      ],
      "metadata": {
        "id": "2VzK8QXb5rMZ"
      }
    },
    {
      "cell_type": "code",
      "source": [
        "#basic syntax:- df[filtering series] will filter all rows of df having value as that of series filtered.\n",
        "\n",
        "#select all rows where match is final\n",
        "ipl[ipl['MatchNumber'] == 'Final']\n",
        "\n",
        "# how many super over finishes have occured\n",
        "ipl[ipl['SuperOver'] == 'Y'].shape[0]  #shape[0] gives number of rows, in other words, count.\n",
        "\n",
        "# how many matches has csk won in kolkata\n",
        "ipl[(ipl['City'] == 'Kolkata') & (ipl['WinningTeam'] == 'Chennai Super Kings')].shape[0]\n",
        "\n",
        "# toss winner is match winner in percentage\n",
        "(ipl[ipl['TossWinner'] == ipl['WinningTeam']].shape[0]/ipl.shape[0])*100"
      ],
      "metadata": {
        "id": "TNhkW-3L5jMl"
      },
      "execution_count": null,
      "outputs": []
    },
    {
      "cell_type": "code",
      "source": [
        "#adding new column to the df\n",
        "movies['Country'] = 'India'"
      ],
      "metadata": {
        "id": "FfLIqyA-6oDE"
      },
      "execution_count": null,
      "outputs": []
    },
    {
      "cell_type": "markdown",
      "source": [
        "#changing datatypes"
      ],
      "metadata": {
        "id": "pEam-eLREUmg"
      }
    },
    {
      "cell_type": "code",
      "source": [
        "#astype\n",
        "ipl['ID'] = ipl['ID'].astype('int32')"
      ],
      "metadata": {
        "id": "J3wuGCRtEbZL"
      },
      "execution_count": null,
      "outputs": []
    },
    {
      "cell_type": "markdown",
      "source": [
        "#value_counts"
      ],
      "metadata": {
        "id": "LBbhc6U98XrM"
      }
    },
    {
      "cell_type": "code",
      "source": [
        "marks = pd.DataFrame([\n",
        "    [100,80,10],\n",
        "    [90,70,7],\n",
        "    [120,100,14],\n",
        "    [80,70,14],\n",
        "    [80,70,14]\n",
        "],columns=['iq','marks','package'])\n",
        "\n",
        "marks.value_counts()"
      ],
      "metadata": {
        "id": "iEpY_UHp8Hrx"
      },
      "execution_count": null,
      "outputs": []
    },
    {
      "cell_type": "code",
      "source": [
        "#we want all the players who have been 'player of the match' in final and qualifier 1.\n",
        "ipl = pd.read_csv('ipl-matches.csv')\n",
        "mask = ipl[(ipl['MatchNumber']=='Final' ) | (ipl['MatchNumber']== 'Qualifier 1')]\n",
        "mask['Player_of_Match'].value_counts()\n",
        "#value_counts is somewhat like groupby, where it shows all the unique items from the column/series selected, and simply counts the number of occurences of each unique item."
      ],
      "metadata": {
        "id": "vjJpNyLW8kJr"
      },
      "execution_count": null,
      "outputs": []
    },
    {
      "cell_type": "code",
      "source": [
        "# how many matches each team has played\n",
        "(ipl['Team2'].value_counts() + ipl['Team1'].value_counts()).sort_values(ascending=False)"
      ],
      "metadata": {
        "id": "78Jcot829uFi"
      },
      "execution_count": null,
      "outputs": []
    },
    {
      "cell_type": "markdown",
      "source": [
        "#Sorting"
      ],
      "metadata": {
        "id": "bsQjl5U2-d3K"
      }
    },
    {
      "cell_type": "code",
      "source": [
        "students = pd.DataFrame(\n",
        "    {\n",
        "        'name':['nitish','ankit','rupesh',np.nan,'mrityunjay',np.nan,'rishabh',np.nan,'aditya',np.nan],\n",
        "        'college':['bit','iit','vit',np.nan,np.nan,'vlsi','ssit',np.nan,np.nan,'git'],\n",
        "        'branch':['eee','it','cse',np.nan,'me','ce','civ','cse','bio',np.nan],\n",
        "        'cgpa':[6.66,8.25,6.41,np.nan,5.6,9.0,7.4,10,7.4,np.nan],\n",
        "        'package':[4,5,6,np.nan,6,7,8,9,np.nan,np.nan]\n",
        "\n",
        "    }\n",
        ")\n",
        "students.sort_values('name',na_position='first',ascending=False,inplace=True)\n",
        "'''\n",
        "so, here, sorting happens to entire df, but on the basis of column 'name', just like order by in MySQL. order here is desc. by default, the nan values are put at last.\n",
        "but here, the values are put at the front because nan_position is 'first.\n",
        "'''\n",
        "\n",
        "#sorting based on multiple columns\n",
        "movies.sort_values(['year_of_release','title_x'],ascending=[True,False])\n",
        "#asc based on year_of_release and desc based on title_x"
      ],
      "metadata": {
        "id": "_rh8Ucvn94h5"
      },
      "execution_count": null,
      "outputs": []
    },
    {
      "cell_type": "code",
      "source": [
        "batsman['batting_rank'] = batsman['batsman_run'].rank(ascending=False) #on the basis of batsman_run\n",
        "'''\n",
        "just like rank in mysql. just don't forget to add new column containing ranks.\n",
        "'''"
      ],
      "metadata": {
        "id": "KOUjWqGcAMSp"
      },
      "execution_count": null,
      "outputs": []
    },
    {
      "cell_type": "markdown",
      "source": [
        "#unique and nunique"
      ],
      "metadata": {
        "id": "lFtdBqniB0Qx"
      }
    },
    {
      "cell_type": "code",
      "source": [
        "# unique(series)\n",
        "temp = pd.Series([1,1,2,2,3,3,4,4,5,5,np.nan,np.nan])\n",
        "print(temp.unique()) #gives a list of all unique values, including nan\n",
        "print(temp.nunique()) #counts all unique values, excluding nan\n",
        "\n",
        "# for dataframe:- need to specify the column/series\n",
        "ipl['Season'].unique()\n",
        "ipl['Season'].nunique()"
      ],
      "metadata": {
        "id": "ZGI6IotKAdLp"
      },
      "execution_count": null,
      "outputs": []
    },
    {
      "cell_type": "markdown",
      "source": [
        "#checking and counting nulls and duplicates"
      ],
      "metadata": {
        "id": "VIAfWbGDZL0B"
      }
    },
    {
      "cell_type": "code",
      "source": [
        "students.isnull() #null check bool = True returned if null\n",
        "students.isnull().sum() #counts total number of null values\n",
        "\n",
        "students.duplicated() #returns true wherever duplicate found\n",
        "students.duplicated().sum() #counts total number of duplicate values"
      ],
      "metadata": {
        "id": "7LdFPo5TZFHS"
      },
      "execution_count": null,
      "outputs": []
    },
    {
      "cell_type": "markdown",
      "source": [
        "#deleting nulls and duplicates"
      ],
      "metadata": {
        "id": "xzslyjdyZzyR"
      }
    },
    {
      "cell_type": "code",
      "source": [
        "#below both are the same. a row is dropped if even any one column got a null value\n",
        "students.dropna()\n",
        "students.dropna(how='any')\n",
        "\n",
        "#below, only if all columns of a row has null values, that row dropped.\n",
        "students.dropna(how='all')\n",
        "\n",
        "#if you want to drop null values from just selected columns, leaving the rest df untouched.\n",
        "students['name'].dropna()\n",
        "students[['name', 'marks']].dropna()  #don't forget double square brackets as you are doing fancy indexing\n",
        "\n",
        "#if you want to drop a whole on the basis of null values in a particular column:-\n",
        "students.dropna(subset=['name']) #if a row of column 'name' got null, the whole row dropped.\n",
        "students.dropna(subset=['name', 'marks'])\n",
        "\n",
        "\n",
        "#drops the row only if it is the complete duplicate of the last row. the last duplicate copy is only kept\n",
        "marks.drop_duplicates(keep='last')\n",
        "\n",
        "#drops the entire row if duplicate copy of the first occurence of the below specified 2 columns is found.\n",
        "vk.drop_duplicates(subset=['City','did_kohli_play'],keep='first')"
      ],
      "metadata": {
        "id": "r6Q9efKTZuZn"
      },
      "execution_count": null,
      "outputs": []
    },
    {
      "cell_type": "markdown",
      "source": [
        "#filling missing values"
      ],
      "metadata": {
        "id": "iIR0CPPfl5dQ"
      }
    },
    {
      "cell_type": "code",
      "source": [
        "students['name'].fillna('unknown')\n",
        "students['package'].fillna(students['package'].mean())\n",
        "students['name'].fillna(method='bfill')\n",
        "students['name'].fillna(method='ffill')"
      ],
      "metadata": {
        "id": "mwyE_jhDl90a"
      },
      "execution_count": null,
      "outputs": []
    },
    {
      "cell_type": "code",
      "source": [
        "#drop\n",
        "students.drop(index=[0,6]) #drops the first 5 rows\n",
        "students.drop(columns=['branch','cgpa'],inplace=True) #drops the specified 2 columns"
      ],
      "metadata": {
        "id": "Fe9_W3rkb8TR"
      },
      "execution_count": null,
      "outputs": []
    },
    {
      "cell_type": "code",
      "source": [
        "#apply\n",
        "def sigmoid(value):\n",
        "  return 1/1+np.exp(-value)\n",
        "\n",
        "student['marks'].apply(sigmoid)"
      ],
      "metadata": {
        "id": "Pd4SgUMwfJ_U"
      },
      "execution_count": null,
      "outputs": []
    }
  ]
}